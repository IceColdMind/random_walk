{
 "cells": [
  {
   "cell_type": "code",
   "execution_count": 71,
   "metadata": {},
   "outputs": [
    {
     "data": {
      "text/plain": [
       "Plots.GRBackend()"
      ]
     },
     "execution_count": 71,
     "metadata": {},
     "output_type": "execute_result"
    }
   ],
   "source": [
    "using Plots\n",
    "using ProgressMeter\n",
    "gr()"
   ]
  },
  {
   "cell_type": "code",
   "execution_count": 2,
   "metadata": {},
   "outputs": [],
   "source": [
    "struct rule\n",
    "    number_dictionary       #Deprecated, old implementation was running each element over a dictionary.\n",
    "                            #Too overkill for simple integer systems. Necessary for complex integer systems.\n",
    "                            #Doesn't work for continuous numbers.\n",
    "    filter::Array{Int64,2}  #The filter passed through. Determines which neighbors are considered.\n",
    "end"
   ]
  },
  {
   "cell_type": "code",
   "execution_count": 95,
   "metadata": {},
   "outputs": [
    {
     "data": {
      "text/plain": [
       "Cellular (generic function with 5 methods)"
      ]
     },
     "execution_count": 95,
     "metadata": {},
     "output_type": "execute_result"
    }
   ],
   "source": [
    "function Cellular(rule,steps=100,startarr=0,randomize=true,dim=(100,100))  #Main function\n",
    "    #=\n",
    "    rule : rule structure. See above\n",
    "    startarr : starting array.\n",
    "    randomize : Whether or not to randomize the initial array. By default 100x100. If true, will ignore the value of startarr.\n",
    "    =#\n",
    "    \n",
    "    randomize ? Grid=rand(0:1,100,100) : Grid=startarr  #randomize initial array if necessary.\n",
    "    \n",
    "    heatmap(Grid,c=:gray)                      #Heatmap setup.\n",
    "    p=Progress(100,1)                          #Progress bar setup.\n",
    "    animation= @animate for i=1:steps          #Loop, @animate for gif.\n",
    "        Grid_temp=conv2(Grid,rule.filter)      #Running the filter over the array. Using convolution (Signal Processing method)\n",
    "        \n",
    "        Grid1=map(twoorthree,Grid_temp[2:101,2:101])  #Checks whether there are two or three near neighbors. Rules 1,2,3.\n",
    "        Grid2=map(threeornone,Grid_temp[2:101,2:101]) #Checks whether there are three near neighbors.\n",
    "        Grid_inv=map(invers,Grid)                     #Inverses the initial array (1 -> 0, 0->1)\n",
    "        \n",
    "        Grid = (Grid .& Grid1 ).| (Grid_inv .& Grid2) # ( TwoOrThree AND Living) OR ( Three AND Dead)\n",
    "        \n",
    "        \n",
    "        heatmap!(Grid,c=:gray)                      #Next frame\n",
    "        next!(p)       #Go through the progress bar\n",
    "        end \n",
    "    gif(animation,\"tmp1.gif\",fps=10)  #Animate at 10 fps.\n",
    "end\n",
    "        "
   ]
  },
  {
   "cell_type": "markdown",
   "metadata": {},
   "source": [
    "The performance of the Cellular function is **massively** dependant on the performance of the heatmap package. And it's bad. Python is even worse due to MatPlotLib prioritizing beauty over performance. Using the MatPlotLib backend on this code makes it run about twice slower. "
   ]
  },
  {
   "cell_type": "code",
   "execution_count": 42,
   "metadata": {},
   "outputs": [
    {
     "data": {
      "text/plain": [
       "twoorthree (generic function with 1 method)"
      ]
     },
     "execution_count": 42,
     "metadata": {},
     "output_type": "execute_result"
    }
   ],
   "source": [
    "function twoorthree(x)   #Straight Forward.\n",
    "    if x==2 | x==3\n",
    "        return 1\n",
    "    else\n",
    "        return 0\n",
    "    end\n",
    "end"
   ]
  },
  {
   "cell_type": "code",
   "execution_count": 38,
   "metadata": {},
   "outputs": [
    {
     "data": {
      "text/plain": [
       "rule(Dict(0=>0,4=>0,7=>0,2=>1,3=>1,5=>0,8=>0,6=>0,1=>0), [1 1 1; 1 0 1; 1 1 1])"
      ]
     },
     "execution_count": 38,
     "metadata": {},
     "output_type": "execute_result"
    }
   ],
   "source": [
    "R=rule(Dict([(0=>0),(1=>0),(2=>1),(3=>1),(4=>0),(5=>0),(6=>0),(7=>0),(8=>0)]),[1 1 1;1 0 1;1 1 1]) #Ignore the dictionary."
   ]
  },
  {
   "cell_type": "code",
   "execution_count": 28,
   "metadata": {},
   "outputs": [
    {
     "data": {
      "text/plain": [
       "threeornone (generic function with 1 method)"
      ]
     },
     "execution_count": 28,
     "metadata": {},
     "output_type": "execute_result"
    }
   ],
   "source": [
    "function threeornone(x)  #Straight Forward as well.\n",
    "    if x==3\n",
    "        return 1\n",
    "    else\n",
    "        return 0\n",
    "    end\n",
    "end"
   ]
  },
  {
   "cell_type": "code",
   "execution_count": 34,
   "metadata": {},
   "outputs": [
    {
     "data": {
      "text/plain": [
       "invers (generic function with 1 method)"
      ]
     },
     "execution_count": 34,
     "metadata": {},
     "output_type": "execute_result"
    }
   ],
   "source": [
    "function invers(x)  #Same\n",
    "    if x==0\n",
    "        return 1\n",
    "    else\n",
    "        return 0\n",
    "    end\n",
    "end"
   ]
  },
  {
   "cell_type": "code",
   "execution_count": 97,
   "metadata": {
    "scrolled": true
   },
   "outputs": [
    {
     "name": "stderr",
     "output_type": "stream",
     "text": [
      "\u001b[1m\u001b[33mWARNING: \u001b[39m\u001b[22m\u001b[33mgray is found in more than one library: cmocean, colorcet. Choosing cmocean\u001b[39m\n",
      "\u001b[1m\u001b[33mWARNING: \u001b[39m\u001b[22m\u001b[33mgray is found in more than one library: cmocean, colorcet. Choosing cmocean\u001b[39m\n",
      "\u001b[1m\u001b[33mWARNING: \u001b[39m\u001b[22m\u001b[33mgray is found in more than one library: cmocean, colorcet. Choosing cmocean\u001b[39m\n",
      "\u001b[1m\u001b[33mWARNING: \u001b[39m\u001b[22m\u001b[33mgray is found in more than one library: cmocean, colorcet. Choosing cmocean\u001b[39m\n",
      "\u001b[1m\u001b[33mWARNING: \u001b[39m\u001b[22m\u001b[33mgray is found in more than one library: cmocean, colorcet. Choosing cmocean\u001b[39m\n",
      "\u001b[32mProgress:   4%|██                                       |  ETA: 0:00:39\u001b[39m\u001b[1m\u001b[33mWARNING: \u001b[39m\u001b[22m\u001b[33mgray is found in more than one library: cmocean, colorcet. Choosing cmocean\u001b[39m\n",
      "\u001b[1m\u001b[33mWARNING: \u001b[39m\u001b[22m\u001b[33mgray is found in more than one library: cmocean, colorcet. Choosing cmocean\u001b[39m\n",
      "\u001b[32mProgress:   6%|██                                       |  ETA: 0:00:48\u001b[39m\u001b[1m\u001b[33mWARNING: \u001b[39m\u001b[22m\u001b[33mgray is found in more than one library: cmocean, colorcet. Choosing cmocean\u001b[39m\n",
      "\u001b[1m\u001b[33mWARNING: \u001b[39m\u001b[22m\u001b[33mgray is found in more than one library: cmocean, colorcet. Choosing cmocean\u001b[39m\n",
      "\u001b[32mProgress:   8%|███                                      |  ETA: 0:00:53\u001b[39m\u001b[1m\u001b[33mWARNING: \u001b[39m\u001b[22m\u001b[33mgray is found in more than one library: cmocean, colorcet. Choosing cmocean\u001b[39m\n",
      "\u001b[1m\u001b[33mWARNING: \u001b[39m\u001b[22m\u001b[33mgray is found in more than one library: cmocean, colorcet. Choosing cmocean\u001b[39m\n",
      "\u001b[32mProgress:  10%|████                                     |  ETA: 0:00:58\u001b[39m\u001b[1m\u001b[33mWARNING: \u001b[39m\u001b[22m\u001b[33mgray is found in more than one library: cmocean, colorcet. Choosing cmocean\u001b[39m\n",
      "\u001b[1m\u001b[33mWARNING: \u001b[39m\u001b[22m\u001b[33mgray is found in more than one library: cmocean, colorcet. Choosing cmocean\u001b[39m\n",
      "\u001b[32mProgress:  12%|█████                                    |  ETA: 0:01:02\u001b[39m\u001b[1m\u001b[33mWARNING: \u001b[39m\u001b[22m\u001b[33mgray is found in more than one library: cmocean, colorcet. Choosing cmocean\u001b[39m\n",
      "\u001b[32mProgress:  13%|█████                                    |  ETA: 0:01:04\u001b[39m\u001b[1m\u001b[33mWARNING: \u001b[39m\u001b[22m\u001b[33mgray is found in more than one library: cmocean, colorcet. Choosing cmocean\u001b[39m\n",
      "\u001b[32mProgress:  14%|██████                                   |  ETA: 0:01:06\u001b[39m\u001b[1m\u001b[33mWARNING: \u001b[39m\u001b[22m\u001b[33mgray is found in more than one library: cmocean, colorcet. Choosing cmocean\u001b[39m\n",
      "\u001b[32mProgress:  15%|██████                                   |  ETA: 0:01:08\u001b[39m\u001b[1m\u001b[33mWARNING: \u001b[39m\u001b[22m\u001b[33mgray is found in more than one library: cmocean, colorcet. Choosing cmocean\u001b[39m\n",
      "\u001b[32mProgress:  16%|███████                                  |  ETA: 0:01:10\u001b[39m\u001b[1m\u001b[33mWARNING: \u001b[39m\u001b[22m\u001b[33mgray is found in more than one library: cmocean, colorcet. Choosing cmocean\u001b[39m\n",
      "\u001b[32mProgress:  17%|███████                                  |  ETA: 0:01:11\u001b[39m\u001b[1m\u001b[33mWARNING: \u001b[39m\u001b[22m\u001b[33mgray is found in more than one library: cmocean, colorcet. Choosing cmocean\u001b[39m\n",
      "\u001b[32mProgress:  18%|███████                                  |  ETA: 0:01:13\u001b[39m\u001b[1m\u001b[33mWARNING: \u001b[39m\u001b[22m\u001b[33mgray is found in more than one library: cmocean, colorcet. Choosing cmocean\u001b[39m\n",
      "\u001b[32mProgress:  19%|████████                                 |  ETA: 0:01:15\u001b[39m\u001b[1m\u001b[33mWARNING: \u001b[39m\u001b[22m\u001b[33mgray is found in more than one library: cmocean, colorcet. Choosing cmocean\u001b[39m\n",
      "\u001b[32mProgress:  20%|████████                                 |  ETA: 0:01:17\u001b[39m\u001b[1m\u001b[33mWARNING: \u001b[39m\u001b[22m\u001b[33mgray is found in more than one library: cmocean, colorcet. Choosing cmocean\u001b[39m\n",
      "\u001b[32mProgress:  21%|█████████                                |  ETA: 0:01:18\u001b[39m\u001b[1m\u001b[33mWARNING: \u001b[39m\u001b[22m\u001b[33mgray is found in more than one library: cmocean, colorcet. Choosing cmocean\u001b[39m\n",
      "\u001b[32mProgress:  22%|█████████                                |  ETA: 0:01:19\u001b[39m\u001b[1m\u001b[33mWARNING: \u001b[39m\u001b[22m\u001b[33mgray is found in more than one library: cmocean, colorcet. Choosing cmocean\u001b[39m\n",
      "\u001b[32mProgress:  23%|█████████                                |  ETA: 0:01:21\u001b[39m\u001b[1m\u001b[33mWARNING: \u001b[39m\u001b[22m\u001b[33mgray is found in more than one library: cmocean, colorcet. Choosing cmocean\u001b[39m\n",
      "\u001b[32mProgress:  24%|██████████                               |  ETA: 0:01:22\u001b[39m\u001b[1m\u001b[33mWARNING: \u001b[39m\u001b[22m\u001b[33mgray is found in more than one library: cmocean, colorcet. Choosing cmocean\u001b[39m\n",
      "\u001b[32mProgress:  25%|██████████                               |  ETA: 0:01:24\u001b[39m\u001b[1m\u001b[33mWARNING: \u001b[39m\u001b[22m\u001b[33mgray is found in more than one library: cmocean, colorcet. Choosing cmocean\u001b[39m\n",
      "\u001b[32mProgress:  26%|███████████                              |  ETA: 0:01:25\u001b[39m\u001b[1m\u001b[33mWARNING: \u001b[39m\u001b[22m\u001b[33mgray is found in more than one library: cmocean, colorcet. Choosing cmocean\u001b[39m\n",
      "\u001b[32mProgress:  27%|███████████                              |  ETA: 0:01:26\u001b[39m\u001b[1m\u001b[33mWARNING: \u001b[39m\u001b[22m\u001b[33mgray is found in more than one library: cmocean, colorcet. Choosing cmocean\u001b[39m\n",
      "\u001b[32mProgress:  28%|███████████                              |  ETA: 0:01:28\u001b[39m\u001b[1m\u001b[33mWARNING: \u001b[39m\u001b[22m\u001b[33mgray is found in more than one library: cmocean, colorcet. Choosing cmocean\u001b[39m\n",
      "\u001b[32mProgress:  29%|████████████                             |  ETA: 0:01:29\u001b[39m\u001b[1m\u001b[33mWARNING: \u001b[39m\u001b[22m\u001b[33mgray is found in more than one library: cmocean, colorcet. Choosing cmocean\u001b[39m\n",
      "\u001b[32mProgress:  30%|████████████                             |  ETA: 0:01:30\u001b[39m\u001b[1m\u001b[33mWARNING: \u001b[39m\u001b[22m\u001b[33mgray is found in more than one library: cmocean, colorcet. Choosing cmocean\u001b[39m\n",
      "\u001b[32mProgress:  31%|█████████████                            |  ETA: 0:01:31\u001b[39m\u001b[1m\u001b[33mWARNING: \u001b[39m\u001b[22m\u001b[33mgray is found in more than one library: cmocean, colorcet. Choosing cmocean\u001b[39m\n",
      "\u001b[32mProgress:  32%|█████████████                            |  ETA: 0:01:32\u001b[39m\u001b[1m\u001b[33mWARNING: \u001b[39m\u001b[22m\u001b[33mgray is found in more than one library: cmocean, colorcet. Choosing cmocean\u001b[39m\n",
      "\u001b[32mProgress:  33%|██████████████                           |  ETA: 0:01:33\u001b[39m\u001b[1m\u001b[33mWARNING: \u001b[39m\u001b[22m\u001b[33mgray is found in more than one library: cmocean, colorcet. Choosing cmocean\u001b[39m\n",
      "\u001b[32mProgress:  34%|██████████████                           |  ETA: 0:01:34\u001b[39m\u001b[1m\u001b[33mWARNING: \u001b[39m\u001b[22m\u001b[33mgray is found in more than one library: cmocean, colorcet. Choosing cmocean\u001b[39m\n",
      "\u001b[32mProgress:  35%|██████████████                           |  ETA: 0:01:34\u001b[39m\u001b[1m\u001b[33mWARNING: \u001b[39m\u001b[22m\u001b[33mgray is found in more than one library: cmocean, colorcet. Choosing cmocean\u001b[39m\n",
      "\u001b[32mProgress:  36%|███████████████                          |  ETA: 0:01:35\u001b[39m\u001b[1m\u001b[33mWARNING: \u001b[39m\u001b[22m\u001b[33mgray is found in more than one library: cmocean, colorcet. Choosing cmocean\u001b[39m\n",
      "\u001b[32mProgress:  37%|███████████████                          |  ETA: 0:01:36\u001b[39m\u001b[1m\u001b[33mWARNING: \u001b[39m\u001b[22m\u001b[33mgray is found in more than one library: cmocean, colorcet. Choosing cmocean\u001b[39m\n",
      "\u001b[32mProgress:  38%|████████████████                         |  ETA: 0:01:36\u001b[39m\u001b[1m\u001b[33mWARNING: \u001b[39m\u001b[22m\u001b[33mgray is found in more than one library: cmocean, colorcet. Choosing cmocean\u001b[39m\n",
      "\u001b[32mProgress:  39%|████████████████                         |  ETA: 0:01:37\u001b[39m\u001b[1m\u001b[33mWARNING: \u001b[39m\u001b[22m\u001b[33mgray is found in more than one library: cmocean, colorcet. Choosing cmocean\u001b[39m\n",
      "\u001b[32mProgress:  40%|████████████████                         |  ETA: 0:01:37\u001b[39m\u001b[1m\u001b[33mWARNING: \u001b[39m\u001b[22m\u001b[33mgray is found in more than one library: cmocean, colorcet. Choosing cmocean\u001b[39m\n",
      "\u001b[32mProgress:  41%|█████████████████                        |  ETA: 0:01:38\u001b[39m\u001b[1m\u001b[33mWARNING: \u001b[39m\u001b[22m\u001b[33mgray is found in more than one library: cmocean, colorcet. Choosing cmocean\u001b[39m\n",
      "\u001b[32mProgress:  42%|█████████████████                        |  ETA: 0:01:38\u001b[39m\u001b[1m\u001b[33mWARNING: \u001b[39m\u001b[22m\u001b[33mgray is found in more than one library: cmocean, colorcet. Choosing cmocean\u001b[39m\n",
      "\u001b[32mProgress:  43%|██████████████████                       |  ETA: 0:01:38\u001b[39m\u001b[1m\u001b[33mWARNING: \u001b[39m\u001b[22m\u001b[33mgray is found in more than one library: cmocean, colorcet. Choosing cmocean\u001b[39m\n",
      "\u001b[32mProgress:  44%|██████████████████                       |  ETA: 0:01:38\u001b[39m\u001b[1m\u001b[33mWARNING: \u001b[39m\u001b[22m\u001b[33mgray is found in more than one library: cmocean, colorcet. Choosing cmocean\u001b[39m\n"
     ]
    },
    {
     "name": "stderr",
     "output_type": "stream",
     "text": [
      "\u001b[32mProgress:  45%|██████████████████                       |  ETA: 0:01:38\u001b[39m\u001b[1m\u001b[33mWARNING: \u001b[39m\u001b[22m\u001b[33mgray is found in more than one library: cmocean, colorcet. Choosing cmocean\u001b[39m\n",
      "\u001b[32mProgress:  46%|███████████████████                      |  ETA: 0:01:38\u001b[39m\u001b[1m\u001b[33mWARNING: \u001b[39m\u001b[22m\u001b[33mgray is found in more than one library: cmocean, colorcet. Choosing cmocean\u001b[39m\n",
      "\u001b[32mProgress:  47%|███████████████████                      |  ETA: 0:01:37\u001b[39m\u001b[1m\u001b[33mWARNING: \u001b[39m\u001b[22m\u001b[33mgray is found in more than one library: cmocean, colorcet. Choosing cmocean\u001b[39m\n",
      "\u001b[32mProgress:  48%|████████████████████                     |  ETA: 0:01:37\u001b[39m\u001b[1m\u001b[33mWARNING: \u001b[39m\u001b[22m\u001b[33mgray is found in more than one library: cmocean, colorcet. Choosing cmocean\u001b[39m\n",
      "\u001b[32mProgress:  49%|████████████████████                     |  ETA: 0:01:37\u001b[39m\u001b[1m\u001b[33mWARNING: \u001b[39m\u001b[22m\u001b[33mgray is found in more than one library: cmocean, colorcet. Choosing cmocean\u001b[39m\n",
      "\u001b[32mProgress:  50%|████████████████████                     |  ETA: 0:01:37\u001b[39m\u001b[1m\u001b[33mWARNING: \u001b[39m\u001b[22m\u001b[33mgray is found in more than one library: cmocean, colorcet. Choosing cmocean\u001b[39m\n",
      "\u001b[32mProgress:  51%|█████████████████████                    |  ETA: 0:01:36\u001b[39m\u001b[1m\u001b[33mWARNING: \u001b[39m\u001b[22m\u001b[33mgray is found in more than one library: cmocean, colorcet. Choosing cmocean\u001b[39m\n",
      "\u001b[32mProgress:  52%|█████████████████████                    |  ETA: 0:01:35\u001b[39m\u001b[1m\u001b[33mWARNING: \u001b[39m\u001b[22m\u001b[33mgray is found in more than one library: cmocean, colorcet. Choosing cmocean\u001b[39m\n",
      "\u001b[32mProgress:  53%|██████████████████████                   |  ETA: 0:01:35\u001b[39m\u001b[1m\u001b[33mWARNING: \u001b[39m\u001b[22m\u001b[33mgray is found in more than one library: cmocean, colorcet. Choosing cmocean\u001b[39m\n",
      "\u001b[32mProgress:  54%|██████████████████████                   |  ETA: 0:01:34\u001b[39m\u001b[1m\u001b[33mWARNING: \u001b[39m\u001b[22m\u001b[33mgray is found in more than one library: cmocean, colorcet. Choosing cmocean\u001b[39m\n",
      "\u001b[32mProgress:  55%|███████████████████████                  |  ETA: 0:01:34\u001b[39m\u001b[1m\u001b[33mWARNING: \u001b[39m\u001b[22m\u001b[33mgray is found in more than one library: cmocean, colorcet. Choosing cmocean\u001b[39m\n",
      "\u001b[32mProgress:  56%|███████████████████████                  |  ETA: 0:01:33\u001b[39m\u001b[1m\u001b[33mWARNING: \u001b[39m\u001b[22m\u001b[33mgray is found in more than one library: cmocean, colorcet. Choosing cmocean\u001b[39m\n",
      "\u001b[32mProgress:  57%|███████████████████████                  |  ETA: 0:01:32\u001b[39m\u001b[1m\u001b[33mWARNING: \u001b[39m\u001b[22m\u001b[33mgray is found in more than one library: cmocean, colorcet. Choosing cmocean\u001b[39m\n",
      "\u001b[32mProgress:  58%|████████████████████████                 |  ETA: 0:01:31\u001b[39m\u001b[1m\u001b[33mWARNING: \u001b[39m\u001b[22m\u001b[33mgray is found in more than one library: cmocean, colorcet. Choosing cmocean\u001b[39m\n",
      "\u001b[32mProgress:  59%|████████████████████████                 |  ETA: 0:01:30\u001b[39m\u001b[1m\u001b[33mWARNING: \u001b[39m\u001b[22m\u001b[33mgray is found in more than one library: cmocean, colorcet. Choosing cmocean\u001b[39m\n",
      "\u001b[32mProgress:  60%|█████████████████████████                |  ETA: 0:01:29\u001b[39m\u001b[1m\u001b[33mWARNING: \u001b[39m\u001b[22m\u001b[33mgray is found in more than one library: cmocean, colorcet. Choosing cmocean\u001b[39m\n",
      "\u001b[32mProgress:  61%|█████████████████████████                |  ETA: 0:01:29\u001b[39m\u001b[1m\u001b[33mWARNING: \u001b[39m\u001b[22m\u001b[33mgray is found in more than one library: cmocean, colorcet. Choosing cmocean\u001b[39m\n",
      "\u001b[32mProgress:  62%|█████████████████████████                |  ETA: 0:01:28\u001b[39m\u001b[1m\u001b[33mWARNING: \u001b[39m\u001b[22m\u001b[33mgray is found in more than one library: cmocean, colorcet. Choosing cmocean\u001b[39m\n",
      "\u001b[32mProgress:  63%|██████████████████████████               |  ETA: 0:01:27\u001b[39m\u001b[1m\u001b[33mWARNING: \u001b[39m\u001b[22m\u001b[33mgray is found in more than one library: cmocean, colorcet. Choosing cmocean\u001b[39m\n",
      "\u001b[32mProgress:  64%|██████████████████████████               |  ETA: 0:01:25\u001b[39m\u001b[1m\u001b[33mWARNING: \u001b[39m\u001b[22m\u001b[33mgray is found in more than one library: cmocean, colorcet. Choosing cmocean\u001b[39m\n",
      "\u001b[32mProgress:  65%|███████████████████████████              |  ETA: 0:01:24\u001b[39m\u001b[1m\u001b[33mWARNING: \u001b[39m\u001b[22m\u001b[33mgray is found in more than one library: cmocean, colorcet. Choosing cmocean\u001b[39m\n",
      "\u001b[32mProgress:  66%|███████████████████████████              |  ETA: 0:01:22\u001b[39m\u001b[1m\u001b[33mWARNING: \u001b[39m\u001b[22m\u001b[33mgray is found in more than one library: cmocean, colorcet. Choosing cmocean\u001b[39m\n",
      "\u001b[32mProgress:  67%|███████████████████████████              |  ETA: 0:01:21\u001b[39m\u001b[1m\u001b[33mWARNING: \u001b[39m\u001b[22m\u001b[33mgray is found in more than one library: cmocean, colorcet. Choosing cmocean\u001b[39m\n",
      "\u001b[32mProgress:  68%|████████████████████████████             |  ETA: 0:01:20\u001b[39m\u001b[1m\u001b[33mWARNING: \u001b[39m\u001b[22m\u001b[33mgray is found in more than one library: cmocean, colorcet. Choosing cmocean\u001b[39m\n",
      "\u001b[32mProgress:  69%|████████████████████████████             |  ETA: 0:01:18\u001b[39m\u001b[1m\u001b[33mWARNING: \u001b[39m\u001b[22m\u001b[33mgray is found in more than one library: cmocean, colorcet. Choosing cmocean\u001b[39m\n",
      "\u001b[32mProgress:  70%|█████████████████████████████            |  ETA: 0:01:16\u001b[39m\u001b[1m\u001b[33mWARNING: \u001b[39m\u001b[22m\u001b[33mgray is found in more than one library: cmocean, colorcet. Choosing cmocean\u001b[39m\n",
      "\u001b[32mProgress:  71%|█████████████████████████████            |  ETA: 0:01:15\u001b[39m\u001b[1m\u001b[33mWARNING: \u001b[39m\u001b[22m\u001b[33mgray is found in more than one library: cmocean, colorcet. Choosing cmocean\u001b[39m\n",
      "\u001b[32mProgress:  72%|██████████████████████████████           |  ETA: 0:01:13\u001b[39m\u001b[1m\u001b[33mWARNING: \u001b[39m\u001b[22m\u001b[33mgray is found in more than one library: cmocean, colorcet. Choosing cmocean\u001b[39m\n",
      "\u001b[32mProgress:  73%|██████████████████████████████           |  ETA: 0:01:11\u001b[39m\u001b[1m\u001b[33mWARNING: \u001b[39m\u001b[22m\u001b[33mgray is found in more than one library: cmocean, colorcet. Choosing cmocean\u001b[39m\n",
      "\u001b[32mProgress:  74%|██████████████████████████████           |  ETA: 0:01:09\u001b[39m\u001b[1m\u001b[33mWARNING: \u001b[39m\u001b[22m\u001b[33mgray is found in more than one library: cmocean, colorcet. Choosing cmocean\u001b[39m\n",
      "\u001b[32mProgress:  75%|███████████████████████████████          |  ETA: 0:01:07\u001b[39m\u001b[1m\u001b[33mWARNING: \u001b[39m\u001b[22m\u001b[33mgray is found in more than one library: cmocean, colorcet. Choosing cmocean\u001b[39m\n",
      "\u001b[32mProgress:  76%|███████████████████████████████          |  ETA: 0:01:06\u001b[39m\u001b[1m\u001b[33mWARNING: \u001b[39m\u001b[22m\u001b[33mgray is found in more than one library: cmocean, colorcet. Choosing cmocean\u001b[39m\n",
      "\u001b[32mProgress:  77%|████████████████████████████████         |  ETA: 0:01:04\u001b[39m\u001b[1m\u001b[33mWARNING: \u001b[39m\u001b[22m\u001b[33mgray is found in more than one library: cmocean, colorcet. Choosing cmocean\u001b[39m\n",
      "\u001b[32mProgress:  78%|████████████████████████████████         |  ETA: 0:01:02\u001b[39m\u001b[1m\u001b[33mWARNING: \u001b[39m\u001b[22m\u001b[33mgray is found in more than one library: cmocean, colorcet. Choosing cmocean\u001b[39m\n",
      "\u001b[32mProgress:  79%|████████████████████████████████         |  ETA: 0:00:59\u001b[39m\u001b[1m\u001b[33mWARNING: \u001b[39m\u001b[22m\u001b[33mgray is found in more than one library: cmocean, colorcet. Choosing cmocean\u001b[39m\n",
      "\u001b[32mProgress:  80%|█████████████████████████████████        |  ETA: 0:00:57\u001b[39m\u001b[1m\u001b[33mWARNING: \u001b[39m\u001b[22m\u001b[33mgray is found in more than one library: cmocean, colorcet. Choosing cmocean\u001b[39m\n",
      "\u001b[32mProgress:  81%|█████████████████████████████████        |  ETA: 0:00:55\u001b[39m\u001b[1m\u001b[33mWARNING: \u001b[39m\u001b[22m\u001b[33mgray is found in more than one library: cmocean, colorcet. Choosing cmocean\u001b[39m\n",
      "\u001b[32mProgress:  82%|██████████████████████████████████       |  ETA: 0:00:53\u001b[39m\u001b[1m\u001b[33mWARNING: \u001b[39m\u001b[22m\u001b[33mgray is found in more than one library: cmocean, colorcet. Choosing cmocean\u001b[39m\n",
      "\u001b[32mProgress:  83%|██████████████████████████████████       |  ETA: 0:00:50\u001b[39m\u001b[1m\u001b[33mWARNING: \u001b[39m\u001b[22m\u001b[33mgray is found in more than one library: cmocean, colorcet. Choosing cmocean\u001b[39m\n",
      "\u001b[32mProgress:  84%|██████████████████████████████████       |  ETA: 0:00:48\u001b[39m\u001b[1m\u001b[33mWARNING: \u001b[39m\u001b[22m\u001b[33mgray is found in more than one library: cmocean, colorcet. Choosing cmocean\u001b[39m\n",
      "\u001b[32mProgress:  85%|███████████████████████████████████      |  ETA: 0:00:45\u001b[39m\u001b[1m\u001b[33mWARNING: \u001b[39m\u001b[22m\u001b[33mgray is found in more than one library: cmocean, colorcet. Choosing cmocean\u001b[39m\n",
      "\u001b[32mProgress:  86%|███████████████████████████████████      |  ETA: 0:00:43\u001b[39m\u001b[1m\u001b[33mWARNING: \u001b[39m\u001b[22m\u001b[33mgray is found in more than one library: cmocean, colorcet. Choosing cmocean\u001b[39m\n",
      "\u001b[32mProgress:  87%|████████████████████████████████████     |  ETA: 0:00:40\u001b[39m\u001b[1m\u001b[33mWARNING: \u001b[39m\u001b[22m\u001b[33mgray is found in more than one library: cmocean, colorcet. Choosing cmocean\u001b[39m\n",
      "\u001b[32mProgress:  88%|████████████████████████████████████     |  ETA: 0:00:37\u001b[39m\u001b[1m\u001b[33mWARNING: \u001b[39m\u001b[22m\u001b[33mgray is found in more than one library: cmocean, colorcet. Choosing cmocean\u001b[39m\n"
     ]
    },
    {
     "name": "stderr",
     "output_type": "stream",
     "text": [
      "\u001b[32mProgress:  89%|████████████████████████████████████     |  ETA: 0:00:35\u001b[39m\u001b[1m\u001b[33mWARNING: \u001b[39m\u001b[22m\u001b[33mgray is found in more than one library: cmocean, colorcet. Choosing cmocean\u001b[39m\n",
      "\u001b[32mProgress:  90%|█████████████████████████████████████    |  ETA: 0:00:32\u001b[39m\u001b[1m\u001b[33mWARNING: \u001b[39m\u001b[22m\u001b[33mgray is found in more than one library: cmocean, colorcet. Choosing cmocean\u001b[39m\n",
      "\u001b[32mProgress:  91%|█████████████████████████████████████    |  ETA: 0:00:29\u001b[39m\u001b[1m\u001b[33mWARNING: \u001b[39m\u001b[22m\u001b[33mgray is found in more than one library: cmocean, colorcet. Choosing cmocean\u001b[39m\n",
      "\u001b[32mProgress:  92%|██████████████████████████████████████   |  ETA: 0:00:26\u001b[39m\u001b[1m\u001b[33mWARNING: \u001b[39m\u001b[22m\u001b[33mgray is found in more than one library: cmocean, colorcet. Choosing cmocean\u001b[39m\n",
      "\u001b[32mProgress:  93%|██████████████████████████████████████   |  ETA: 0:00:23\u001b[39m\u001b[1m\u001b[33mWARNING: \u001b[39m\u001b[22m\u001b[33mgray is found in more than one library: cmocean, colorcet. Choosing cmocean\u001b[39m\n",
      "\u001b[32mProgress:  94%|███████████████████████████████████████  |  ETA: 0:00:20\u001b[39m\u001b[1m\u001b[33mWARNING: \u001b[39m\u001b[22m\u001b[33mgray is found in more than one library: cmocean, colorcet. Choosing cmocean\u001b[39m\n",
      "\u001b[32mProgress:  95%|███████████████████████████████████████  |  ETA: 0:00:17\u001b[39m\u001b[1m\u001b[33mWARNING: \u001b[39m\u001b[22m\u001b[33mgray is found in more than one library: cmocean, colorcet. Choosing cmocean\u001b[39m\n",
      "\u001b[32mProgress:  96%|███████████████████████████████████████  |  ETA: 0:00:13\u001b[39m\u001b[1m\u001b[33mWARNING: \u001b[39m\u001b[22m\u001b[33mgray is found in more than one library: cmocean, colorcet. Choosing cmocean\u001b[39m\n",
      "\u001b[32mProgress:  97%|████████████████████████████████████████ |  ETA: 0:00:10\u001b[39m\u001b[1m\u001b[33mWARNING: \u001b[39m\u001b[22m\u001b[33mgray is found in more than one library: cmocean, colorcet. Choosing cmocean\u001b[39m\n",
      "\u001b[32mProgress:  98%|████████████████████████████████████████ |  ETA: 0:00:07\u001b[39m\u001b[1m\u001b[33mWARNING: \u001b[39m\u001b[22m\u001b[33mgray is found in more than one library: cmocean, colorcet. Choosing cmocean\u001b[39m\n",
      "\u001b[32mProgress:  99%|█████████████████████████████████████████|  ETA: 0:00:03\u001b[39m\u001b[1m\u001b[33mWARNING: \u001b[39m\u001b[22m\u001b[33mgray is found in more than one library: cmocean, colorcet. Choosing cmocean\u001b[39m\n",
      "\u001b[32mProgress: 100%|█████████████████████████████████████████| Time: 0:05:48\u001b[39m\n"
     ]
    },
    {
     "name": "stdout",
     "output_type": "stream",
     "text": [
      "381.824817 seconds (328.31 M allocations: 10.467 GiB, 0.42% gc time)\n"
     ]
    },
    {
     "name": "stderr",
     "output_type": "stream",
     "text": [
      "\u001b[1m\u001b[36mINFO: \u001b[39m\u001b[22m\u001b[36mSaved animation to /home/qflex/jlfiles/tmp1.gif\n",
      "\u001b[39m"
     ]
    },
    {
     "data": {
      "text/html": [
       "<img src=\"tmp1.gif?0.2199745172978962>\" />"
      ],
      "text/plain": [
       "Plots.AnimatedGif(\"/home/qflex/jlfiles/tmp1.gif\")"
      ]
     },
     "execution_count": 97,
     "metadata": {},
     "output_type": "execute_result"
    }
   ],
   "source": [
    "@time anim=Cellular(R)  #~6 minutes on a i5-6500. Memory isn't an issue. Skipping frames makes it much faster.\n",
    "                        #Ignore the innocent warnings."
   ]
  },
  {
   "cell_type": "code",
   "execution_count": null,
   "metadata": {},
   "outputs": [],
   "source": []
  },
  {
   "cell_type": "code",
   "execution_count": null,
   "metadata": {},
   "outputs": [],
   "source": []
  }
 ],
 "metadata": {
  "kernelspec": {
   "display_name": "Julia 0.6.2",
   "language": "julia",
   "name": "julia-0.6"
  },
  "language_info": {
   "file_extension": ".jl",
   "mimetype": "application/julia",
   "name": "julia",
   "version": "0.6.2"
  }
 },
 "nbformat": 4,
 "nbformat_minor": 2
}
