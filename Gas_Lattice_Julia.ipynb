{
 "cells": [
  {
   "cell_type": "code",
   "execution_count": 1,
   "metadata": {},
   "outputs": [
    {
     "data": {
      "text/plain": [
       "Plots.GRBackend()"
      ]
     },
     "execution_count": 1,
     "metadata": {},
     "output_type": "execute_result"
    }
   ],
   "source": [
    "using Plots\n",
    "using ProgressMeter\n",
    "gr()"
   ]
  },
  {
   "cell_type": "code",
   "execution_count": 53,
   "metadata": {
    "scrolled": false
   },
   "outputs": [
    {
     "name": "stderr",
     "output_type": "stream",
     "text": [
      "\u001b[1m\u001b[33mWARNING: \u001b[39m\u001b[22m\u001b[33mgray is found in more than one library: cmocean, colorcet. Choosing cmocean\u001b[39m\n",
      "\u001b[1m\u001b[33mWARNING: \u001b[39m\u001b[22m\u001b[33mgray is found in more than one library: cmocean, colorcet. Choosing cmocean\u001b[39m\n",
      "\u001b[32mProgress:   2%|█                                        |  ETA: 0:01:11\u001b[39m\u001b[1m\u001b[33mWARNING: \u001b[39m\u001b[22m\u001b[33mgray is found in more than one library: cmocean, colorcet. Choosing cmocean\u001b[39m\n",
      "\u001b[32mProgress:   4%|██                                       |  ETA: 0:01:27\u001b[39m\u001b[1m\u001b[33mWARNING: \u001b[39m\u001b[22m\u001b[33mgray is found in more than one library: cmocean, colorcet. Choosing cmocean\u001b[39m\n",
      "\u001b[32mProgress:   6%|██                                       |  ETA: 0:01:30\u001b[39m\u001b[1m\u001b[33mWARNING: \u001b[39m\u001b[22m\u001b[33mgray is found in more than one library: cmocean, colorcet. Choosing cmocean\u001b[39m\n",
      "\u001b[32mProgress:   8%|███                                      |  ETA: 0:01:30\u001b[39m\u001b[1m\u001b[33mWARNING: \u001b[39m\u001b[22m\u001b[33mgray is found in more than one library: cmocean, colorcet. Choosing cmocean\u001b[39m\n",
      "\u001b[32mProgress:  10%|████                                     |  ETA: 0:01:29\u001b[39m\u001b[1m\u001b[33mWARNING: \u001b[39m\u001b[22m\u001b[33mgray is found in more than one library: cmocean, colorcet. Choosing cmocean\u001b[39m\n",
      "\u001b[32mProgress:  12%|█████                                    |  ETA: 0:01:28\u001b[39m\u001b[1m\u001b[33mWARNING: \u001b[39m\u001b[22m\u001b[33mgray is found in more than one library: cmocean, colorcet. Choosing cmocean\u001b[39m\n",
      "\u001b[32mProgress:  14%|██████                                   |  ETA: 0:01:26\u001b[39m\u001b[1m\u001b[33mWARNING: \u001b[39m\u001b[22m\u001b[33mgray is found in more than one library: cmocean, colorcet. Choosing cmocean\u001b[39m\n",
      "\u001b[32mProgress:  16%|███████                                  |  ETA: 0:01:24\u001b[39m\u001b[1m\u001b[33mWARNING: \u001b[39m\u001b[22m\u001b[33mgray is found in more than one library: cmocean, colorcet. Choosing cmocean\u001b[39m\n",
      "\u001b[32mProgress:  18%|███████                                  |  ETA: 0:01:22\u001b[39m\u001b[1m\u001b[33mWARNING: \u001b[39m\u001b[22m\u001b[33mgray is found in more than one library: cmocean, colorcet. Choosing cmocean\u001b[39m\n",
      "\u001b[32mProgress:  20%|████████                                 |  ETA: 0:01:21\u001b[39m\u001b[1m\u001b[33mWARNING: \u001b[39m\u001b[22m\u001b[33mgray is found in more than one library: cmocean, colorcet. Choosing cmocean\u001b[39m\n",
      "\u001b[32mProgress:  22%|█████████                                |  ETA: 0:01:19\u001b[39m\u001b[1m\u001b[33mWARNING: \u001b[39m\u001b[22m\u001b[33mgray is found in more than one library: cmocean, colorcet. Choosing cmocean\u001b[39m\n",
      "\u001b[32mProgress:  24%|██████████                               |  ETA: 0:01:17\u001b[39m\u001b[1m\u001b[33mWARNING: \u001b[39m\u001b[22m\u001b[33mgray is found in more than one library: cmocean, colorcet. Choosing cmocean\u001b[39m\n",
      "\u001b[32mProgress:  26%|███████████                              |  ETA: 0:01:15\u001b[39m\u001b[1m\u001b[33mWARNING: \u001b[39m\u001b[22m\u001b[33mgray is found in more than one library: cmocean, colorcet. Choosing cmocean\u001b[39m\n",
      "\u001b[32mProgress:  28%|███████████                              |  ETA: 0:01:13\u001b[39m\u001b[1m\u001b[33mWARNING: \u001b[39m\u001b[22m\u001b[33mgray is found in more than one library: cmocean, colorcet. Choosing cmocean\u001b[39m\n",
      "\u001b[32mProgress:  30%|████████████                             |  ETA: 0:01:11\u001b[39m\u001b[1m\u001b[33mWARNING: \u001b[39m\u001b[22m\u001b[33mgray is found in more than one library: cmocean, colorcet. Choosing cmocean\u001b[39m\n",
      "\u001b[32mProgress:  32%|█████████████                            |  ETA: 0:01:09\u001b[39m\u001b[1m\u001b[33mWARNING: \u001b[39m\u001b[22m\u001b[33mgray is found in more than one library: cmocean, colorcet. Choosing cmocean\u001b[39m\n",
      "\u001b[32mProgress:  34%|██████████████                           |  ETA: 0:01:07\u001b[39m\u001b[1m\u001b[33mWARNING: \u001b[39m\u001b[22m\u001b[33mgray is found in more than one library: cmocean, colorcet. Choosing cmocean\u001b[39m\n",
      "\u001b[32mProgress:  36%|███████████████                          |  ETA: 0:01:05\u001b[39m\u001b[1m\u001b[33mWARNING: \u001b[39m\u001b[22m\u001b[33mgray is found in more than one library: cmocean, colorcet. Choosing cmocean\u001b[39m\n",
      "\u001b[32mProgress:  38%|████████████████                         |  ETA: 0:01:03\u001b[39m\u001b[1m\u001b[33mWARNING: \u001b[39m\u001b[22m\u001b[33mgray is found in more than one library: cmocean, colorcet. Choosing cmocean\u001b[39m\n",
      "\u001b[32mProgress:  40%|████████████████                         |  ETA: 0:01:01\u001b[39m\u001b[1m\u001b[33mWARNING: \u001b[39m\u001b[22m\u001b[33mgray is found in more than one library: cmocean, colorcet. Choosing cmocean\u001b[39m\n",
      "\u001b[32mProgress:  42%|█████████████████                        |  ETA: 0:00:59\u001b[39m\u001b[1m\u001b[33mWARNING: \u001b[39m\u001b[22m\u001b[33mgray is found in more than one library: cmocean, colorcet. Choosing cmocean\u001b[39m\n",
      "\u001b[32mProgress:  44%|██████████████████                       |  ETA: 0:00:57\u001b[39m\u001b[1m\u001b[33mWARNING: \u001b[39m\u001b[22m\u001b[33mgray is found in more than one library: cmocean, colorcet. Choosing cmocean\u001b[39m\n",
      "\u001b[32mProgress:  46%|███████████████████                      |  ETA: 0:00:55\u001b[39m\u001b[1m\u001b[33mWARNING: \u001b[39m\u001b[22m\u001b[33mgray is found in more than one library: cmocean, colorcet. Choosing cmocean\u001b[39m\n",
      "\u001b[32mProgress:  48%|████████████████████                     |  ETA: 0:00:53\u001b[39m\u001b[1m\u001b[33mWARNING: \u001b[39m\u001b[22m\u001b[33mgray is found in more than one library: cmocean, colorcet. Choosing cmocean\u001b[39m\n",
      "\u001b[32mProgress:  50%|████████████████████                     |  ETA: 0:00:51\u001b[39m\u001b[1m\u001b[33mWARNING: \u001b[39m\u001b[22m\u001b[33mgray is found in more than one library: cmocean, colorcet. Choosing cmocean\u001b[39m\n",
      "\u001b[32mProgress:  52%|█████████████████████                    |  ETA: 0:00:49\u001b[39m\u001b[1m\u001b[33mWARNING: \u001b[39m\u001b[22m\u001b[33mgray is found in more than one library: cmocean, colorcet. Choosing cmocean\u001b[39m\n",
      "\u001b[32mProgress:  54%|██████████████████████                   |  ETA: 0:00:47\u001b[39m\u001b[1m\u001b[33mWARNING: \u001b[39m\u001b[22m\u001b[33mgray is found in more than one library: cmocean, colorcet. Choosing cmocean\u001b[39m\n",
      "\u001b[32mProgress:  56%|███████████████████████                  |  ETA: 0:00:45\u001b[39m\u001b[1m\u001b[33mWARNING: \u001b[39m\u001b[22m\u001b[33mgray is found in more than one library: cmocean, colorcet. Choosing cmocean\u001b[39m\n",
      "\u001b[32mProgress:  58%|████████████████████████                 |  ETA: 0:00:43\u001b[39m\u001b[1m\u001b[33mWARNING: \u001b[39m\u001b[22m\u001b[33mgray is found in more than one library: cmocean, colorcet. Choosing cmocean\u001b[39m\n",
      "\u001b[32mProgress:  60%|█████████████████████████                |  ETA: 0:00:41\u001b[39m\u001b[1m\u001b[33mWARNING: \u001b[39m\u001b[22m\u001b[33mgray is found in more than one library: cmocean, colorcet. Choosing cmocean\u001b[39m\n",
      "\u001b[32mProgress:  62%|█████████████████████████                |  ETA: 0:00:39\u001b[39m\u001b[1m\u001b[33mWARNING: \u001b[39m\u001b[22m\u001b[33mgray is found in more than one library: cmocean, colorcet. Choosing cmocean\u001b[39m\n",
      "\u001b[32mProgress:  64%|██████████████████████████               |  ETA: 0:00:37\u001b[39m\u001b[1m\u001b[33mWARNING: \u001b[39m\u001b[22m\u001b[33mgray is found in more than one library: cmocean, colorcet. Choosing cmocean\u001b[39m\n",
      "\u001b[32mProgress:  66%|███████████████████████████              |  ETA: 0:00:35\u001b[39m\u001b[1m\u001b[33mWARNING: \u001b[39m\u001b[22m\u001b[33mgray is found in more than one library: cmocean, colorcet. Choosing cmocean\u001b[39m\n",
      "\u001b[32mProgress:  68%|████████████████████████████             |  ETA: 0:00:33\u001b[39m\u001b[1m\u001b[33mWARNING: \u001b[39m\u001b[22m\u001b[33mgray is found in more than one library: cmocean, colorcet. Choosing cmocean\u001b[39m\n",
      "\u001b[32mProgress:  70%|█████████████████████████████            |  ETA: 0:00:31\u001b[39m\u001b[1m\u001b[33mWARNING: \u001b[39m\u001b[22m\u001b[33mgray is found in more than one library: cmocean, colorcet. Choosing cmocean\u001b[39m\n",
      "\u001b[32mProgress:  72%|██████████████████████████████           |  ETA: 0:00:29\u001b[39m\u001b[1m\u001b[33mWARNING: \u001b[39m\u001b[22m\u001b[33mgray is found in more than one library: cmocean, colorcet. Choosing cmocean\u001b[39m\n",
      "\u001b[32mProgress:  74%|██████████████████████████████           |  ETA: 0:00:27\u001b[39m\u001b[1m\u001b[33mWARNING: \u001b[39m\u001b[22m\u001b[33mgray is found in more than one library: cmocean, colorcet. Choosing cmocean\u001b[39m\n",
      "\u001b[32mProgress:  76%|███████████████████████████████          |  ETA: 0:00:25\u001b[39m\u001b[1m\u001b[33mWARNING: \u001b[39m\u001b[22m\u001b[33mgray is found in more than one library: cmocean, colorcet. Choosing cmocean\u001b[39m\n",
      "\u001b[32mProgress:  78%|████████████████████████████████         |  ETA: 0:00:23\u001b[39m\u001b[1m\u001b[33mWARNING: \u001b[39m\u001b[22m\u001b[33mgray is found in more than one library: cmocean, colorcet. Choosing cmocean\u001b[39m\n",
      "\u001b[32mProgress:  80%|█████████████████████████████████        |  ETA: 0:00:20\u001b[39m\u001b[1m\u001b[33mWARNING: \u001b[39m\u001b[22m\u001b[33mgray is found in more than one library: cmocean, colorcet. Choosing cmocean\u001b[39m\n",
      "\u001b[32mProgress:  82%|██████████████████████████████████       |  ETA: 0:00:18\u001b[39m\u001b[1m\u001b[33mWARNING: \u001b[39m\u001b[22m\u001b[33mgray is found in more than one library: cmocean, colorcet. Choosing cmocean\u001b[39m\n",
      "\u001b[32mProgress:  84%|██████████████████████████████████       |  ETA: 0:00:16\u001b[39m\u001b[1m\u001b[33mWARNING: \u001b[39m\u001b[22m\u001b[33mgray is found in more than one library: cmocean, colorcet. Choosing cmocean\u001b[39m\n"
     ]
    },
    {
     "name": "stderr",
     "output_type": "stream",
     "text": [
      "\u001b[32mProgress:  86%|███████████████████████████████████      |  ETA: 0:00:14\u001b[39m\u001b[1m\u001b[33mWARNING: \u001b[39m\u001b[22m\u001b[33mgray is found in more than one library: cmocean, colorcet. Choosing cmocean\u001b[39m\n",
      "\u001b[32mProgress:  88%|████████████████████████████████████     |  ETA: 0:00:12\u001b[39m\u001b[1m\u001b[33mWARNING: \u001b[39m\u001b[22m\u001b[33mgray is found in more than one library: cmocean, colorcet. Choosing cmocean\u001b[39m\n",
      "\u001b[32mProgress:  90%|█████████████████████████████████████    |  ETA: 0:00:10\u001b[39m\u001b[1m\u001b[33mWARNING: \u001b[39m\u001b[22m\u001b[33mgray is found in more than one library: cmocean, colorcet. Choosing cmocean\u001b[39m\n",
      "\u001b[32mProgress:  92%|██████████████████████████████████████   |  ETA: 0:00:08\u001b[39m\u001b[1m\u001b[33mWARNING: \u001b[39m\u001b[22m\u001b[33mgray is found in more than one library: cmocean, colorcet. Choosing cmocean\u001b[39m\n",
      "\u001b[32mProgress:  94%|███████████████████████████████████████  |  ETA: 0:00:06\u001b[39m\u001b[1m\u001b[33mWARNING: \u001b[39m\u001b[22m\u001b[33mgray is found in more than one library: cmocean, colorcet. Choosing cmocean\u001b[39m\n",
      "\u001b[32mProgress:  96%|███████████████████████████████████████  |  ETA: 0:00:04\u001b[39m\u001b[1m\u001b[33mWARNING: \u001b[39m\u001b[22m\u001b[33mgray is found in more than one library: cmocean, colorcet. Choosing cmocean\u001b[39m\n",
      "\u001b[32mProgress:  98%|████████████████████████████████████████ |  ETA: 0:00:02\u001b[39m\u001b[1m\u001b[33mWARNING: \u001b[39m\u001b[22m\u001b[33mgray is found in more than one library: cmocean, colorcet. Choosing cmocean\u001b[39m\n",
      "\u001b[32mProgress: 100%|█████████████████████████████████████████| Time: 0:01:43\u001b[39m\n",
      "\u001b[1m\u001b[36mINFO: \u001b[39m\u001b[22m\u001b[36mSaved animation to /home/qflex/jlfiles/random_walk/tmp.gif\n",
      "\u001b[39m"
     ]
    },
    {
     "data": {
      "text/html": [
       "<img src=\"tmp.gif?0.7979701871231495>\" />"
      ],
      "text/plain": [
       "Plots.AnimatedGif(\"/home/qflex/jlfiles/random_walk/tmp.gif\")"
      ]
     },
     "execution_count": 53,
     "metadata": {},
     "output_type": "execute_result"
    }
   ],
   "source": [
    "function gaslattice(steps=50,startarr=0,randomize=true,dim=(1000,1000))\n",
    "    randomize ? Grid=rand([1 2 3 5 7],dim) : Grid=startarr           #1:up 3:left 5:down 7:right 0:none\n",
    "    \n",
    "    \n",
    "    filter=[0 1 0;1 0 1;0 1 0]\n",
    "    \n",
    "    filtertop  =   [0 1 0;0 0 0;0 0 0]\n",
    "    filterbot  =   [0 1 0;0 0 0;0 1 0]\n",
    "    filterleft =   [0 0 0;1 0 0;0 0 0]\n",
    "    filterright=   [0 0 0;0 0 1;0 0 0]\n",
    "    \n",
    "    \n",
    "    heatmap(map(countt,Grid),c=:gray_r)\n",
    "    \n",
    "    p=Progress(steps)\n",
    "    @gif for k=1:steps\n",
    "    #display(Grid)\n",
    "        Grid_top=map(hasbot,conv2(Grid,filtertop)[2:1001,2:1001])\n",
    "    \n",
    "        Grid_left=map(hasright,conv2(Grid,filterleft)[2:1001,2:1001])\n",
    "        Grid_bot=map(hastop,conv2(Grid,filterbot)[2:1001,2:1001])\n",
    "        Grid_right=map(hasleft,conv2(Grid,filterright)[2:1001,2:1001])\n",
    "        #display(Grid_top)\n",
    "        Grid_pre_collision=Grid_top .* Grid_left .* Grid_right .* Grid_bot\n",
    "        #display(Grid_pre_collision)\n",
    "        Grid_pre_wall=map(collision,Grid_pre_collision)\n",
    "        Grid=map(bordercollisions,Grid_pre_wall)\n",
    "        #Grid=Grid_pre_wall\n",
    "        #display(Grid)\n",
    "        Grid_count=map(countt,Grid)\n",
    "        #display(Grid)\n",
    "        heatmap(Grid_count,c=:gray_r)\n",
    "        next!(p)\n",
    "    end\n",
    "    #gif(anim,\"randomgaslattice.gif\")\n",
    "    \n",
    "end\n",
    "gaslattice()"
   ]
  },
  {
   "cell_type": "code",
   "execution_count": 48,
   "metadata": {},
   "outputs": [
    {
     "data": {
      "text/plain": [
       "hasbot (generic function with 1 method)"
      ]
     },
     "execution_count": 48,
     "metadata": {},
     "output_type": "execute_result"
    }
   ],
   "source": [
    "function countt(x)\n",
    "    count=0\n",
    "    if x==1\n",
    "        return 0\n",
    "    end\n",
    "    for k in [2,3,5,7]\n",
    "        if x%k==0\n",
    "            count+=1\n",
    "        end\n",
    "    end\n",
    "    return count\n",
    "end\n",
    "function collision(x)\n",
    "    if x==210 | x==1\n",
    "        return x\n",
    "    end\n",
    "    if x%2==0 & x%5==0\n",
    "        return 21\n",
    "    elseif x%3==0 & x%7==0\n",
    "        return 10\n",
    "    else\n",
    "        return x\n",
    "    end\n",
    "end\n",
    "function bordercollisions(x)\n",
    "    if (x%11!=0) & (x%13!=0) & (x%17!=0) & (x%19!=0)\n",
    "        return x\n",
    "    end\n",
    "    R=1\n",
    "    if x%11==0 & x%2==0\n",
    "        R*=5\n",
    "    end\n",
    "    if x%13==0 & x%3==0\n",
    "        R*=7\n",
    "    end\n",
    "    if x%17==0 & x%5==0\n",
    "        R*=2\n",
    "    end\n",
    "    if x%19==0 & x%7==0\n",
    "        R*=3\n",
    "    end\n",
    "    return R\n",
    "end\n",
    "\n",
    "function hasleft(x)\n",
    "    X=x%3\n",
    "    ret=1\n",
    "    if x==0\n",
    "        ret*=13\n",
    "    end\n",
    "    if X==0\n",
    "        return ret*3\n",
    "    else\n",
    "        return 1\n",
    "    end\n",
    "end\n",
    "function hastop(x)\n",
    "    X=x%2\n",
    "    ret=1\n",
    "    if x==0\n",
    "        ret*=11\n",
    "    end\n",
    "    if X==0\n",
    "        return ret*2\n",
    "    else\n",
    "        return 1\n",
    "    end\n",
    "end\n",
    "function hasright(x)\n",
    "    X=x%7\n",
    "    ret=1\n",
    "    if x==0\n",
    "        ret*=19\n",
    "    end\n",
    "    if X==0\n",
    "        return ret*7\n",
    "    else\n",
    "        return 1\n",
    "    end\n",
    "end\n",
    "function hasbot(x)\n",
    "    X=x%5\n",
    "    ret=1\n",
    "    if x==0\n",
    "        ret*=17\n",
    "    end\n",
    "    if X==0\n",
    "        return ret*5\n",
    "    else\n",
    "        return 1\n",
    "    end\n",
    "end"
   ]
  },
  {
   "cell_type": "code",
   "execution_count": null,
   "metadata": {},
   "outputs": [],
   "source": []
  }
 ],
 "metadata": {
  "kernelspec": {
   "display_name": "Julia 0.6.2",
   "language": "julia",
   "name": "julia-0.6"
  },
  "language_info": {
   "file_extension": ".jl",
   "mimetype": "application/julia",
   "name": "julia",
   "version": "0.6.2"
  }
 },
 "nbformat": 4,
 "nbformat_minor": 2
}
